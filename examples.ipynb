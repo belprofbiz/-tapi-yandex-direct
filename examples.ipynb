{
 "cells": [
  {
   "cell_type": "code",
   "execution_count": null,
   "metadata": {
    "scrolled": true
   },
   "outputs": [],
   "source": [
    "!pip install tapi-yandex-direct"
   ]
  },
  {
   "cell_type": "code",
   "execution_count": 34,
   "metadata": {
    "collapsed": true
   },
   "outputs": [],
   "source": [
    "import datetime as dt\n",
    "from pprint import pprint \n",
    "from tapi_yandex_direct import YandexDirect"
   ]
  },
  {
   "cell_type": "code",
   "execution_count": 9,
   "metadata": {
    "collapsed": true
   },
   "outputs": [],
   "source": [
    "# Токен от аккаунта созданного в песочнице. Можете поиграться.\n",
    "ACCESS_TOKEN = \"AgAAAAADJjMuAAOdM9eC6Scipk-So_vi08XBE0I\""
   ]
  },
  {
   "cell_type": "code",
   "execution_count": 10,
   "metadata": {
    "collapsed": true
   },
   "outputs": [],
   "source": [
    "api = YandexDirect(\n",
    "    # Токен доступа.\n",
    "    access_token=ACCESS_TOKEN, \n",
    "    # Не будет повторять запрос, если закончаться баллы.\n",
    "    retry_if_not_enough_units=False,\n",
    "    # Сделает несколько запросов, если кол-во идентификаторов \n",
    "    # в условиях фильтрации SelectionCriteria будет больше, \n",
    "    # чем можно запросить в одном запросе. Работает для метода \"get\".\n",
    "    auto_request_generation=True,\n",
    "    # Если в запросе не будут получены все объекты, сделает еще запросы.\n",
    "    receive_all_objects=True,\n",
    "    # Включить песочницу.\n",
    "    is_sandbox=True,\n",
    "    # Если вы делаете запросы из под агенсткого аккаунта, \n",
    "    # вам нужно указать логин аккаунта для которого будете делать запросы.\n",
    "    #login=\"{логин аккаунта Я.Директ}\"\n",
    ")"
   ]
  },
  {
   "cell_type": "markdown",
   "metadata": {},
   "source": [
    "### Доступные ресурсы API Я.Директ"
   ]
  },
  {
   "cell_type": "code",
   "execution_count": 33,
   "metadata": {},
   "outputs": [
    {
     "name": "stdout",
     "output_type": "stream",
     "text": [
      "['adextensions',\n",
      " 'adgroups',\n",
      " 'adimages',\n",
      " 'ads',\n",
      " 'agencyclients',\n",
      " 'audiencetargets',\n",
      " 'bidmodifiers',\n",
      " 'bids',\n",
      " 'campaigns',\n",
      " 'changes',\n",
      " 'clients',\n",
      " 'creatives',\n",
      " 'dictionaries',\n",
      " 'dynamicads',\n",
      " 'keywordbids',\n",
      " 'keywords',\n",
      " 'keywordsresearch',\n",
      " 'leads',\n",
      " 'negativekeywordsharedsets',\n",
      " 'retargeting',\n",
      " 'sitelinks',\n",
      " 'turbopages',\n",
      " 'vcards']\n"
     ]
    }
   ],
   "source": [
    "pprint(dir(api))"
   ]
  },
  {
   "cell_type": "markdown",
   "metadata": {},
   "source": [
    "### Создание кампании"
   ]
  },
  {
   "cell_type": "code",
   "execution_count": 35,
   "metadata": {},
   "outputs": [
    {
     "data": {
      "text/plain": [
       "[{'Id': 338584}]"
      ]
     },
     "execution_count": 35,
     "metadata": {},
     "output_type": "execute_result"
    }
   ],
   "source": [
    "body = {\n",
    "    \"method\": \"add\",\n",
    "    \"params\": {\n",
    "        \"Campaigns\": [\n",
    "            {\n",
    "                \"Name\": \"MyCampaignTest\",\n",
    "                \"StartDate\": str(dt.datetime.now().date()),\n",
    "                \"TextCampaign\": {\n",
    "                    \"BiddingStrategy\": {\n",
    "                        \"Search\": {\n",
    "                            \"BiddingStrategyType\": \"HIGHEST_POSITION\"\n",
    "                        },\n",
    "                        \"Network\": {\n",
    "                            \"BiddingStrategyType\": \"SERVING_OFF\"\n",
    "                        }\n",
    "                    },\n",
    "                    \"Settings\": []\n",
    "                }\n",
    "            }\n",
    "        ]\n",
    "    }\n",
    "}\n",
    "result = api.campaigns().post(data=body)\n",
    "data = result().transform()\n",
    "data"
   ]
  },
  {
   "cell_type": "code",
   "execution_count": 7,
   "metadata": {},
   "outputs": [
    {
     "data": {
      "text/plain": [
       "338338"
      ]
     },
     "execution_count": 7,
     "metadata": {},
     "output_type": "execute_result"
    }
   ],
   "source": [
    "campaign_id = data[0]['Id']\n",
    "campaign_id"
   ]
  },
  {
   "cell_type": "markdown",
   "metadata": {},
   "source": [
    "### Создание группы"
   ]
  },
  {
   "cell_type": "code",
   "execution_count": 10,
   "metadata": {},
   "outputs": [
    {
     "data": {
      "text/plain": [
       "[{'Id': 3687128}]"
      ]
     },
     "execution_count": 10,
     "metadata": {},
     "output_type": "execute_result"
    }
   ],
   "source": [
    "body = {\n",
    "    \"method\": \"add\",\n",
    "    \"params\": {\n",
    "        \"AdGroups\": [\n",
    "            {\n",
    "                \"Name\": \"MyAdGroupTest\",\n",
    "                \"CampaignId\": campaign_id,\n",
    "                \"RegionIds\": [0],\n",
    "            }\n",
    "        ]\n",
    "    }\n",
    "}\n",
    "result = api.adgroups().post(data=body)\n",
    "data = result().transform()\n",
    "data"
   ]
  },
  {
   "cell_type": "code",
   "execution_count": 11,
   "metadata": {},
   "outputs": [
    {
     "data": {
      "text/plain": [
       "3687128"
      ]
     },
     "execution_count": 11,
     "metadata": {},
     "output_type": "execute_result"
    }
   ],
   "source": [
    "adgroup_id = data[0]['Id']\n",
    "adgroup_id"
   ]
  },
  {
   "cell_type": "markdown",
   "metadata": {},
   "source": [
    "### Создание набора быстрых ссылок"
   ]
  },
  {
   "cell_type": "code",
   "execution_count": 109,
   "metadata": {},
   "outputs": [
    {
     "data": {
      "text/plain": [
       "[{'Id': 371040}]"
      ]
     },
     "execution_count": 109,
     "metadata": {},
     "output_type": "execute_result"
    }
   ],
   "source": [
    "body = {\n",
    "  \"method\": \"add\",\n",
    "  \"params\": {\n",
    "    \"SitelinksSets\": [{\n",
    "        \"Sitelinks\": [\n",
    "            {\n",
    "                \"Title\": \"SitelinkTitle\",\n",
    "                \"Href\": \"https://yandex.ru\",\n",
    "                \"Description\": \"SitelinkDescription\",\n",
    "            },{\n",
    "                \"Title\": \"SitelinkTitle2\",\n",
    "                \"Href\": \"https://yandex.ru\",\n",
    "                \"Description\": \"SitelinkDescription2\",\n",
    "            },\n",
    "        ]\n",
    "    }]\n",
    "  }\n",
    "}\n",
    "result = api.sitelinks().post(data=body)\n",
    "data = result().transform()\n",
    "data"
   ]
  },
  {
   "cell_type": "code",
   "execution_count": 110,
   "metadata": {},
   "outputs": [
    {
     "data": {
      "text/plain": [
       "371040"
      ]
     },
     "execution_count": 110,
     "metadata": {},
     "output_type": "execute_result"
    }
   ],
   "source": [
    "links_id = data[0]['Id']\n",
    "links_id"
   ]
  },
  {
   "cell_type": "markdown",
   "metadata": {},
   "source": [
    "### Создание объявления"
   ]
  },
  {
   "cell_type": "code",
   "execution_count": 113,
   "metadata": {},
   "outputs": [
    {
     "data": {
      "text/plain": [
       "[{'Id': 3140143}]"
      ]
     },
     "execution_count": 113,
     "metadata": {},
     "output_type": "execute_result"
    }
   ],
   "source": [
    "body = {\n",
    "    \"method\": \"add\",\n",
    "    \"params\": {\n",
    "        \"Ads\": [\n",
    "            {\n",
    "                \"AdGroupId\": adgroup_id,\n",
    "                \"TextAd\": {\n",
    "                    \"Title\": \"MyTitleTest\",\n",
    "                    \"Text\": \"MyTextTest\",\n",
    "                    \"Mobile\": \"NO\",\n",
    "                    \"Href\": \"https://yandex.ru\",\n",
    "                    \"SitelinkSetId\": links_id\n",
    "                }\n",
    "            }\n",
    "        ]\n",
    "    }\n",
    "}\n",
    "result = api.ads().post(data=body)\n",
    "data = result().transform()\n",
    "data"
   ]
  },
  {
   "cell_type": "code",
   "execution_count": 14,
   "metadata": {},
   "outputs": [
    {
     "data": {
      "text/plain": [
       "3139596"
      ]
     },
     "execution_count": 14,
     "metadata": {},
     "output_type": "execute_result"
    }
   ],
   "source": [
    "ads_id = data[0]['Id']\n",
    "ads_id"
   ]
  },
  {
   "cell_type": "markdown",
   "metadata": {},
   "source": [
    "### Создание ключевого слова"
   ]
  },
  {
   "cell_type": "code",
   "execution_count": 15,
   "metadata": {},
   "outputs": [
    {
     "data": {
      "text/plain": [
       "[{'Id': 7711613,\n",
       "  'Warnings': [{'Code': 10160,\n",
       "    'Details': 'Ставка ContextBid не будет применена, так как отключены показы на сети',\n",
       "    'Message': 'Ставка не будет применена'}]}]"
      ]
     },
     "execution_count": 15,
     "metadata": {},
     "output_type": "execute_result"
    }
   ],
   "source": [
    "body = {\n",
    "    \"method\": \"add\",\n",
    "    \"params\": {\n",
    "        \"Keywords\": [\n",
    "            {\n",
    "                \"AdGroupId\": adgroup_id,\n",
    "                \"Keyword\": \"Keyword\",\n",
    "                \"Bid\": 10 * 1000000,\n",
    "                \"ContextBid\": 10 * 1000000,\n",
    "            }\n",
    "        ]\n",
    "    }\n",
    "}\n",
    "result = api.keywords().post(data=body)\n",
    "data = result().transform()\n",
    "data"
   ]
  },
  {
   "cell_type": "code",
   "execution_count": 16,
   "metadata": {},
   "outputs": [
    {
     "data": {
      "text/plain": [
       "7711613"
      ]
     },
     "execution_count": 16,
     "metadata": {},
     "output_type": "execute_result"
    }
   ],
   "source": [
    "keyword_id = data[0]['Id']\n",
    "keyword_id"
   ]
  },
  {
   "cell_type": "markdown",
   "metadata": {},
   "source": [
    "### Изменение ставки ключевого слова"
   ]
  },
  {
   "cell_type": "code",
   "execution_count": 19,
   "metadata": {},
   "outputs": [
    {
     "data": {
      "text/plain": [
       "[{'KeywordId': 7711613}]"
      ]
     },
     "execution_count": 19,
     "metadata": {},
     "output_type": "execute_result"
    }
   ],
   "source": [
    "body = {\n",
    "  \"method\": \"set\",\n",
    "  \"params\": {\n",
    "    \"Bids\": [{\n",
    "      \"KeywordId\": keyword_id,\n",
    "      \"Bid\": 15 * 1000000\n",
    "    }]\n",
    "  } \n",
    "}\n",
    "result = api.bids().post(data=body)\n",
    "data = result().transform()\n",
    "data"
   ]
  },
  {
   "cell_type": "markdown",
   "metadata": {},
   "source": [
    "### Добавление минус слов в кампанию"
   ]
  },
  {
   "cell_type": "code",
   "execution_count": 21,
   "metadata": {},
   "outputs": [
    {
     "data": {
      "text/plain": [
       "[{'Id': 338294}]"
      ]
     },
     "execution_count": 21,
     "metadata": {},
     "output_type": "execute_result"
    }
   ],
   "source": [
    "body = {\n",
    "  \"method\": \"update\",\n",
    "  \"params\": {\n",
    "    \"Campaigns\": [{\n",
    "      \"Id\": campaign_id,\n",
    "      \"NegativeKeywords\": {\"Items\": [\"минусслово1\", \"минусслово2\"]}\n",
    "    }]\n",
    "  } \n",
    "}\n",
    "result = api.campaigns().post(data=body)\n",
    "data = result().transform()\n",
    "data"
   ]
  },
  {
   "cell_type": "markdown",
   "metadata": {},
   "source": [
    "#### Проверим, получив данные кампании"
   ]
  },
  {
   "cell_type": "code",
   "execution_count": 9,
   "metadata": {},
   "outputs": [
    {
     "data": {
      "text/plain": [
       "[{'Id': 338294,\n",
       "  'Name': 'MyCampaignTest',\n",
       "  'NegativeKeywords': {'Items': ['минусслово1', 'минусслово2']}}]"
      ]
     },
     "execution_count": 9,
     "metadata": {},
     "output_type": "execute_result"
    }
   ],
   "source": [
    "body = {\n",
    "    \"method\": \"get\",\n",
    "    \"params\": {\n",
    "        \"SelectionCriteria\": {\n",
    "            \"Ids\": [campaign_id]\n",
    "        },\n",
    "        \"FieldNames\": [\n",
    "            \"Id\",\n",
    "            \"Name\", \n",
    "            \"NegativeKeywords\"\n",
    "        ],\n",
    "    } \n",
    "}\n",
    "result = api.campaigns().post(data=body)\n",
    "data = result().transform()\n",
    "data"
   ]
  },
  {
   "cell_type": "markdown",
   "metadata": {
    "collapsed": true
   },
   "source": [
    "### Получение всех кампаний"
   ]
  },
  {
   "cell_type": "code",
   "execution_count": 39,
   "metadata": {},
   "outputs": [
    {
     "data": {
      "text/plain": [
       "[{'Id': 338151, 'Name': 'Test API Sandbox campaign 1'},\n",
       " {'Id': 338152, 'Name': 'Test API Sandbox campaign 2'},\n",
       " {'Id': 338153, 'Name': 'Test API Sandbox campaign 3'},\n",
       " {'Id': 338185, 'Name': 'MyCampaignTest'},\n",
       " {'Id': 338231, 'Name': 'MyCampaignTest'},\n",
       " {'Id': 338232, 'Name': 'MyCampaignTest'},\n",
       " {'Id': 338247, 'Name': 'MyCampaignTest'},\n",
       " {'Id': 338294, 'Name': 'MyCampaignTest'},\n",
       " {'Id': 338338, 'Name': 'MyCampaignTest'},\n",
       " {'Id': 338584, 'Name': 'MyCampaignTest'}]"
      ]
     },
     "execution_count": 39,
     "metadata": {},
     "output_type": "execute_result"
    }
   ],
   "source": [
    "r = api.campaigns().post(\n",
    "    data={\n",
    "        \"method\": \"get\",\n",
    "        \"params\": {\n",
    "            \"SelectionCriteria\": {},\n",
    "            \"FieldNames\": [\"Id\",\"Name\"],\n",
    "            \"Page\": {\"Limit\": 1},\n",
    "        },\n",
    "    }\n",
    ")\n",
    "r().transform()"
   ]
  },
  {
   "cell_type": "code",
   "execution_count": 40,
   "metadata": {},
   "outputs": [
    {
     "name": "stdout",
     "output_type": "stream",
     "text": [
      "[{'result': {'Campaigns': [{'Id': 338151,\n",
      "                            'Name': 'Test API Sandbox campaign 1'}],\n",
      "             'LimitedBy': 1}},\n",
      " {'result': {'Campaigns': [{'Id': 338152,\n",
      "                            'Name': 'Test API Sandbox campaign 2'}],\n",
      "             'LimitedBy': 2}},\n",
      " {'result': {'Campaigns': [{'Id': 338153,\n",
      "                            'Name': 'Test API Sandbox campaign 3'}],\n",
      "             'LimitedBy': 3}},\n",
      " {'result': {'Campaigns': [{'Id': 338185, 'Name': 'MyCampaignTest'}],\n",
      "             'LimitedBy': 4}},\n",
      " {'result': {'Campaigns': [{'Id': 338231, 'Name': 'MyCampaignTest'}],\n",
      "             'LimitedBy': 5}},\n",
      " {'result': {'Campaigns': [{'Id': 338232, 'Name': 'MyCampaignTest'}],\n",
      "             'LimitedBy': 6}},\n",
      " {'result': {'Campaigns': [{'Id': 338247, 'Name': 'MyCampaignTest'}],\n",
      "             'LimitedBy': 7}},\n",
      " {'result': {'Campaigns': [{'Id': 338294, 'Name': 'MyCampaignTest'}],\n",
      "             'LimitedBy': 8}},\n",
      " {'result': {'Campaigns': [{'Id': 338338, 'Name': 'MyCampaignTest'}],\n",
      "             'LimitedBy': 9}},\n",
      " {'result': {'Campaigns': [{'Id': 338584, 'Name': 'MyCampaignTest'}]}}]\n"
     ]
    }
   ],
   "source": [
    "pprint(r().data)"
   ]
  },
  {
   "cell_type": "code",
   "execution_count": 16,
   "metadata": {},
   "outputs": [
    {
     "data": {
      "text/plain": [
       "[338151, 338152, 338153, 338185, 338231, 338232, 338247, 338294, 338338]"
      ]
     },
     "execution_count": 16,
     "metadata": {},
     "output_type": "execute_result"
    }
   ],
   "source": [
    "campaign_ids = [i['Id'] for i in r().transform()]\n",
    "campaign_ids"
   ]
  },
  {
   "cell_type": "markdown",
   "metadata": {},
   "source": [
    "### Получение объявлений"
   ]
  },
  {
   "cell_type": "code",
   "execution_count": 24,
   "metadata": {},
   "outputs": [
    {
     "data": {
      "text/plain": [
       "[{'Id': 3139231,\n",
       "  'TextAd': {'Title': 'Test sandbox banner 1'},\n",
       "  'Type': 'TEXT_AD'},\n",
       " {'Id': 3139232,\n",
       "  'TextAd': {'Title': 'Test sandbox banner 2'},\n",
       "  'Type': 'TEXT_AD'},\n",
       " {'Id': 3139233,\n",
       "  'TextAd': {'Title': 'Test sandbox banner 3'},\n",
       "  'Type': 'TEXT_AD'},\n",
       " {'Id': 3139234,\n",
       "  'TextAd': {'Title': 'Test sandbox banner 4'},\n",
       "  'Type': 'TEXT_AD'},\n",
       " {'Id': 3139235,\n",
       "  'TextAd': {'Title': 'Test sandbox banner 5'},\n",
       "  'Type': 'TEXT_AD'},\n",
       " {'Id': 3139236,\n",
       "  'TextAd': {'Title': 'Test sandbox banner 1'},\n",
       "  'Type': 'TEXT_AD'},\n",
       " {'Id': 3139237,\n",
       "  'TextAd': {'Title': 'Test sandbox banner 2'},\n",
       "  'Type': 'TEXT_AD'},\n",
       " {'Id': 3139238,\n",
       "  'TextAd': {'Title': 'Test sandbox banner 3'},\n",
       "  'Type': 'TEXT_AD'},\n",
       " {'Id': 3139239,\n",
       "  'TextAd': {'Title': 'Test sandbox banner 4'},\n",
       "  'Type': 'TEXT_AD'},\n",
       " {'Id': 3139240,\n",
       "  'TextAd': {'Title': 'Test sandbox banner 5'},\n",
       "  'Type': 'TEXT_AD'},\n",
       " {'Id': 3139241,\n",
       "  'TextAd': {'Title': 'Test sandbox banner 1'},\n",
       "  'Type': 'TEXT_AD'},\n",
       " {'Id': 3139242,\n",
       "  'TextAd': {'Title': 'Test sandbox banner 2'},\n",
       "  'Type': 'TEXT_AD'},\n",
       " {'Id': 3139243,\n",
       "  'TextAd': {'Title': 'Test sandbox banner 3'},\n",
       "  'Type': 'TEXT_AD'},\n",
       " {'Id': 3139244,\n",
       "  'TextAd': {'Title': 'Test sandbox banner 4'},\n",
       "  'Type': 'TEXT_AD'},\n",
       " {'Id': 3139245,\n",
       "  'TextAd': {'Title': 'Test sandbox banner 5'},\n",
       "  'Type': 'TEXT_AD'},\n",
       " {'Id': 3139335, 'TextAd': {'Title': 'MyTitleTest'}, 'Type': 'TEXT_AD'},\n",
       " {'Id': 3139529, 'TextAd': {'Title': 'MyTitleTest'}, 'Type': 'TEXT_AD'},\n",
       " {'Id': 3139596, 'TextAd': {'Title': 'MyTitleTest'}, 'Type': 'TEXT_AD'},\n",
       " {'Id': 3140143, 'TextAd': {'Title': 'MyTitleTest'}, 'Type': 'TEXT_AD'}]"
      ]
     },
     "execution_count": 24,
     "metadata": {},
     "output_type": "execute_result"
    }
   ],
   "source": [
    "r = api.ads().post(\n",
    "    data={\n",
    "        \"method\": \"get\",\n",
    "        \"params\": {\n",
    "            \"SelectionCriteria\": {\n",
    "                \"CampaignIds\":campaign_ids,\n",
    "                \"Types\": [\"TEXT_AD\"]\n",
    "            },\n",
    "            \"FieldNames\": [\"Id\", \"Type\"],\n",
    "            \"TextAdFieldNames\": [\n",
    "                \"Title\"\n",
    "            ]\n",
    "        },\n",
    "    }\n",
    ")\n",
    "r().transform()"
   ]
  },
  {
   "cell_type": "markdown",
   "metadata": {
    "collapsed": true
   },
   "source": [
    "### Получить идентификаторы объектов, которые были изменены"
   ]
  },
  {
   "cell_type": "code",
   "execution_count": 18,
   "metadata": {},
   "outputs": [
    {
     "data": {
      "text/plain": [
       "{'Modified': {'AdIds': [3139231,\n",
       "   3139232,\n",
       "   3139233,\n",
       "   3139234,\n",
       "   3139235,\n",
       "   3139236,\n",
       "   3139237,\n",
       "   3139238,\n",
       "   3139239,\n",
       "   3139240,\n",
       "   3139241,\n",
       "   3139242,\n",
       "   3139243,\n",
       "   3139244,\n",
       "   3139245,\n",
       "   3139335,\n",
       "   3139529,\n",
       "   3139596,\n",
       "   3140143],\n",
       "  'CampaignIds': [338151,\n",
       "   338152,\n",
       "   338153,\n",
       "   338185,\n",
       "   338231,\n",
       "   338232,\n",
       "   338247,\n",
       "   338294,\n",
       "   338338]},\n",
       " 'Timestamp': '2019-09-08T09:26:24Z'}"
      ]
     },
     "execution_count": 18,
     "metadata": {},
     "output_type": "execute_result"
    }
   ],
   "source": [
    "body = {\n",
    "  \"method\": \"check\",\n",
    "  \"params\": {\n",
    "    \"CampaignIds\": campaign_ids,  \n",
    "    \"Timestamp\": \"2019-01-01T00:00:00Z\",  # Проверить изменения после указанного времени\n",
    "    \"FieldNames\": [\"CampaignIds\",\"AdIds\"]\n",
    "  } \n",
    "}\n",
    "r = api.changes().post(data=body)\n",
    "r().transform()"
   ]
  },
  {
   "cell_type": "code",
   "execution_count": null,
   "metadata": {
    "collapsed": true
   },
   "outputs": [],
   "source": []
  }
 ],
 "metadata": {
  "kernelspec": {
   "display_name": "Python 3",
   "language": "python",
   "name": "python3"
  },
  "language_info": {
   "codemirror_mode": {
    "name": "ipython",
    "version": 3
   },
   "file_extension": ".py",
   "mimetype": "text/x-python",
   "name": "python",
   "nbconvert_exporter": "python",
   "pygments_lexer": "ipython3",
   "version": "3.6.3"
  }
 },
 "nbformat": 4,
 "nbformat_minor": 2
}
